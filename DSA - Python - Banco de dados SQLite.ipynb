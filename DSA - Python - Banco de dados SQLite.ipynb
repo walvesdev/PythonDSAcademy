{
 "cells": [
  {
   "cell_type": "code",
   "execution_count": null,
   "metadata": {
    "collapsed": true
   },
   "outputs": [],
   "source": [
    "# Importando modulo sqlite\n",
    "\n",
    "import sqlite3\n",
    "\n",
    "# Cria a conxão com o banco, se não existir é criado nesse momento\n",
    "\n",
    "con = sqlite3.connect('escola.db')"
   ]
  },
  {
   "cell_type": "code",
   "execution_count": null,
   "metadata": {
    "collapsed": false
   },
   "outputs": [],
   "source": [
    "type(con)"
   ]
  },
  {
   "cell_type": "code",
   "execution_count": null,
   "metadata": {
    "collapsed": false
   },
   "outputs": [],
   "source": [
    "# Criando um cursor;\n",
    "# Um cursor permite percorrer todos os registros em um conjunto de dados;\n",
    "\n",
    "cur = con.cursor()"
   ]
  },
  {
   "cell_type": "code",
   "execution_count": null,
   "metadata": {
    "collapsed": false
   },
   "outputs": [],
   "source": [
    "type(cur)"
   ]
  },
  {
   "cell_type": "code",
   "execution_count": null,
   "metadata": {
    "collapsed": true
   },
   "outputs": [],
   "source": [
    "# Cria uma intrução SQL\n",
    "\n",
    "sql_create = \"create table cursos (id integer primary key, titulo varchar(100), catergoria varchar(140))\""
   ]
  },
  {
   "cell_type": "code",
   "execution_count": null,
   "metadata": {
    "collapsed": false
   },
   "outputs": [],
   "source": [
    "# Executando a instrução SQL no cursor;\n",
    "\n",
    "cur.execute(sql_create)"
   ]
  },
  {
   "cell_type": "code",
   "execution_count": null,
   "metadata": {
    "collapsed": true
   },
   "outputs": [],
   "source": [
    "# Cria uma intrução SQL\n",
    "\n",
    "sql_insert = \"insert into cursos values (?,?,?)\""
   ]
  },
  {
   "cell_type": "code",
   "execution_count": null,
   "metadata": {
    "collapsed": true
   },
   "outputs": [],
   "source": [
    "# Dados\n",
    "\n",
    "recset = [(1000, \"Python Fundamentos\", \"Data Science\"),\n",
    "          (1002, \"Big Data Fundamentos\", \"Big Data\"),\n",
    "          (1003, \"Ciencia da Dados\", \"Analise de Dados\")]"
   ]
  },
  {
   "cell_type": "code",
   "execution_count": null,
   "metadata": {
    "collapsed": false
   },
   "outputs": [],
   "source": [
    "# Executando a instrução SQL no cursor;\n",
    "\n",
    "for rec in recset:\n",
    "    cur.execute(sql_insert, rec)"
   ]
  },
  {
   "cell_type": "code",
   "execution_count": null,
   "metadata": {
    "collapsed": true
   },
   "outputs": [],
   "source": [
    "# Grava a transação\n",
    "\n",
    "con.commit()"
   ]
  },
  {
   "cell_type": "code",
   "execution_count": null,
   "metadata": {
    "collapsed": true
   },
   "outputs": [],
   "source": [
    "sql_select = \"select * from cursos\""
   ]
  },
  {
   "cell_type": "code",
   "execution_count": null,
   "metadata": {
    "collapsed": false
   },
   "outputs": [],
   "source": [
    "# Nesse momento todos os dados da tabela curso será armazenado no objeto cursor (cur)\n",
    "\n",
    "cur.execute(sql_select)"
   ]
  },
  {
   "cell_type": "code",
   "execution_count": null,
   "metadata": {
    "collapsed": true
   },
   "outputs": [],
   "source": [
    "# Recupera todos os dados armazenado no objeto cursor (cur)\n",
    "\n",
    "dados = cur.fetchall()"
   ]
  },
  {
   "cell_type": "code",
   "execution_count": null,
   "metadata": {
    "collapsed": false
   },
   "outputs": [],
   "source": [
    "for linha in dados:\n",
    "    print(\"Id: %i, Titulo: %s, Categoria: %s \\n\" %(linha))"
   ]
  },
  {
   "cell_type": "code",
   "execution_count": null,
   "metadata": {
    "collapsed": true
   },
   "outputs": [],
   "source": [
    "# Gerando outros registros\n",
    "\n",
    "recset = [(1001, \"Hadoop\", \"Data Science\"),\n",
    "          (1004, \"Python Fundamentos\", \"Data Science\"),\n",
    "          (1005, \"MongoDB\", \"Big Data\")]\n",
    "\n",
    "#inserindo os registros\n",
    "\n",
    "for linha in recset:\n",
    "    cur.execute(sql_insert, linha)\n",
    "    \n",
    "# Gravando a transação\n",
    "\n",
    "con.commit()"
   ]
  },
  {
   "cell_type": "code",
   "execution_count": null,
   "metadata": {
    "collapsed": false
   },
   "outputs": [],
   "source": [
    "# Seleciona todos os registros\n",
    "cur.execute(\"select * from cursos\")\n",
    "\n",
    "#atribui à variavel dados todos os valores obtidos pelo cursor(cur)\n",
    "dados = cur.fetchall()\n",
    "\n",
    "#imprime os valores na tela\n",
    "for linha in dados:\n",
    "        print(\"Id: %i, Titulo: %s, Categoria: %s \\n\" %(linha))\n",
    "    "
   ]
  },
  {
   "cell_type": "code",
   "execution_count": null,
   "metadata": {
    "collapsed": true
   },
   "outputs": [],
   "source": [
    "import sqlite3\n",
    "# Criando conexao de DB\n",
    "conn = sqlite3.connetc('dsa.db')\n",
    "\n",
    "# Criando cursor\n",
    "c = conn.cursor()\n",
    "\n",
    "# Criando função para criar tabela\n",
    "def create_table():\n",
    "    c.execute\n"
   ]
  }
 ],
 "metadata": {
  "anaconda-cloud": {},
  "kernelspec": {
   "display_name": "Python [default]",
   "language": "python",
   "name": "python3"
  },
  "language_info": {
   "codemirror_mode": {
    "name": "ipython",
    "version": 3
   },
   "file_extension": ".py",
   "mimetype": "text/x-python",
   "name": "python",
   "nbconvert_exporter": "python",
   "pygments_lexer": "ipython3",
   "version": "3.5.2"
  }
 },
 "nbformat": 4,
 "nbformat_minor": 1
}
